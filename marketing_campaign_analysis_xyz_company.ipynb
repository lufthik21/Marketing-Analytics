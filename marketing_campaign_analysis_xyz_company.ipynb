{
  "cells": [
    {
      "cell_type": "markdown",
      "id": "fa4ed5d6",
      "metadata": {
        "id": "fa4ed5d6",
        "papermill": {
          "duration": 0.061237,
          "end_time": "2021-12-27T19:21:33.597862",
          "exception": false,
          "start_time": "2021-12-27T19:21:33.536625",
          "status": "completed"
        },
        "tags": []
      },
      "source": [
        "---------------------\n",
        "# Project: Marketing Campaign Analysis\n",
        "--------------------\n",
        "\n",
        "Welcome to the project on Foundations for Data Science. In this project, we aim to analyze marketing data and address some important business problems/questions.\n",
        "\n",
        "---------------------\n",
        "## Context\n",
        "--------------------\n",
        "\n",
        "Marketing Analytics broadly refers to the practice of using analytical methods and techniques to understand the effectiveness of various marketing activities and deploy data-driven decisions to optimize for ROI on conversion rates. It typically involves analyzing various metrics around customer engagement with various marketing activities including but not limited to, ATL (above the line) marketing activities, BTL (below the line) campaigns, targeting personalized offers. Typically the variables of interest are customer profile, campaign conversion rates, and costs associated with various marketing channels. These can generate valuable insights that can help an organization form better marketing strategies, optimize/innovate on delivery, and achieve overall growth. \n",
        "\n",
        "---------------------\n",
        "## Problem Statement\n",
        "--------------------\n",
        "Company 'All You Need' has hired you as a Data Scientist and you've been told by the Chief Marketing Officer that recent marketing campaigns have not been as effective as they were expected to be and the conversion rate is very low.\n",
        "Your task is to analyze the related data, understand the problem, and identify key insights and recommendations for the CMO to potentially implement.  \n",
        "\n",
        "The data set marketing_data.csv consists of 2,240 customers of All You Need company with data on:\n",
        "\n",
        "- Campaign successes/failures\n",
        "- Product preferences\n",
        "- Channel performances\n",
        "- Customer profiles based on the spending habits\n",
        "\n",
        "-------------------\n",
        "## Data Dictionary\n",
        "-------------------\n",
        "- ID : Unique ID of each customer\n",
        "- Year_Birth : Age of the customer\n",
        "- Education : Customer's level of education\n",
        "- Marital_Status : Customer's marital status\n",
        "- Kidhome : Number of small children in customer's household\n",
        "- Teenhome : Number of teenagers in customer's household\n",
        "- Income : Customer's yearly household income\n",
        "- Recency : Number of days since the last purchase\n",
        "- MntFishProducts : The amount spent on fish products in the last 2 years\n",
        "- MntMeatProducts : The amount spent on meat products in the last 2 years\n",
        "- MntFruits : The amount spent on fruits products in the last 2 years\n",
        "- MntSweetProducts : Amount spent on sweet products in the last 2 years\n",
        "- MntWines : The amount spent on wine products in the last 2 years\n",
        "- MntGoldProds : The amount spent on gold products in the last 2 years\n",
        "- NumDealsPurchases : Number of purchases made with discount\n",
        "- NumCatalogPurchases : Number of purchases made using catalog (buying goods to be shipped through the mail)\n",
        "- NumStorePurchases : Number of purchases made directly in stores\n",
        "- NumWebPurchases : Number of purchases made through the company's website\n",
        "- NumWebVisitsMonth : Number of visits to company's website in the last month\n",
        "- AcceptedCmp1 : 1 if customer accepted the offer in the first campaign, 0 otherwise \n",
        "- AcceptedCmp2 : 1 if customer accepted the offer in the second campaign, 0 otherwise\n",
        "- AcceptedCmp3 : 1 if customer accepted the offer in the third campaign, 0 otherwise\n",
        "- AcceptedCmp4 : 1 if customer accepted the offer in the fourth campaign, 0 otherwise\n",
        "- AcceptedCmp5 : 1 if customer accepted the offer in the fifth campaign, 0 otherwise\n",
        "- AcceptedCmp6 : 1 if customer accepted the offer in the last campaign, 0 otherwise \n",
        "- Complain : 1 If the customer complained in the last 2 years, 0 otherwise\n",
        "- Country: Country customer belongs to"
      ]
    },
    {
      "cell_type": "code",
      "execution_count": null,
      "id": "8eaec21b",
      "metadata": {
        "execution": {
          "iopub.execute_input": "2021-12-27T19:21:33.736648Z",
          "iopub.status.busy": "2021-12-27T19:21:33.736157Z",
          "iopub.status.idle": "2021-12-27T19:21:33.787414Z",
          "shell.execute_reply": "2021-12-27T19:21:33.785288Z"
        },
        "id": "8eaec21b",
        "papermill": {
          "duration": 0.125376,
          "end_time": "2021-12-27T19:21:33.787706",
          "exception": true,
          "start_time": "2021-12-27T19:21:33.662330",
          "status": "failed"
        },
        "tags": []
      },
      "outputs": [],
      "source": [
        "from google.colab import drive\n",
        "drive.mount('/content/drive')"
      ]
    },
    {
      "cell_type": "markdown",
      "id": "a78db8e9",
      "metadata": {
        "id": "a78db8e9",
        "papermill": {
          "duration": null,
          "end_time": null,
          "exception": null,
          "start_time": null,
          "status": "pending"
        },
        "tags": []
      },
      "source": [
        "## Importing libraries and overview of the dataset"
      ]
    },
    {
      "cell_type": "code",
      "execution_count": null,
      "id": "3038d648",
      "metadata": {
        "id": "3038d648",
        "papermill": {
          "duration": null,
          "end_time": null,
          "exception": null,
          "start_time": null,
          "status": "pending"
        },
        "tags": []
      },
      "outputs": [],
      "source": [
        "# Library to supress warnings or deprecation notes \n",
        "import warnings\n",
        "warnings.filterwarnings('ignore')\n",
        "\n",
        "# Libraries to help with reading and manipulating data\n",
        "import numpy as np\n",
        "import pandas as pd\n",
        "\n",
        "# Libraries to help with data visualization\n",
        "import matplotlib.pyplot as plt\n",
        "%matplotlib inline\n",
        "import seaborn as sns"
      ]
    },
    {
      "cell_type": "code",
      "execution_count": null,
      "id": "7e7c2a31",
      "metadata": {
        "id": "7e7c2a31",
        "papermill": {
          "duration": null,
          "end_time": null,
          "exception": null,
          "start_time": null,
          "status": "pending"
        },
        "tags": []
      },
      "outputs": [],
      "source": [
        "# from google.colab import files\n",
        "# uploaded = files.upload()"
      ]
    },
    {
      "cell_type": "markdown",
      "id": "0dccfbf9",
      "metadata": {
        "id": "0dccfbf9",
        "papermill": {
          "duration": null,
          "end_time": null,
          "exception": null,
          "start_time": null,
          "status": "pending"
        },
        "tags": []
      },
      "source": [
        "### Load the dataset"
      ]
    },
    {
      "cell_type": "code",
      "execution_count": null,
      "id": "3ebc84f7",
      "metadata": {
        "id": "3ebc84f7",
        "papermill": {
          "duration": null,
          "end_time": null,
          "exception": null,
          "start_time": null,
          "status": "pending"
        },
        "tags": []
      },
      "outputs": [],
      "source": [
        "# loading the datset\n",
        "\n",
        "df = pd.read_csv('/content/drive/MyDrive/Marketing data.csv')\n",
        "df.head()"
      ]
    },
    {
      "cell_type": "markdown",
      "id": "e06fa0a2",
      "metadata": {
        "id": "e06fa0a2",
        "papermill": {
          "duration": null,
          "end_time": null,
          "exception": null,
          "start_time": null,
          "status": "pending"
        },
        "tags": []
      },
      "source": [
        "### Check info of the dataset"
      ]
    },
    {
      "cell_type": "code",
      "execution_count": null,
      "id": "e0db5c69",
      "metadata": {
        "id": "e0db5c69",
        "papermill": {
          "duration": null,
          "end_time": null,
          "exception": null,
          "start_time": null,
          "status": "pending"
        },
        "tags": []
      },
      "outputs": [],
      "source": [
        "#Checking the info\n",
        "\n",
        "df.info()"
      ]
    },
    {
      "cell_type": "markdown",
      "id": "9a08224b",
      "metadata": {
        "id": "9a08224b",
        "papermill": {
          "duration": null,
          "end_time": null,
          "exception": null,
          "start_time": null,
          "status": "pending"
        },
        "tags": []
      },
      "source": [
        "**Observations:**\n",
        "- There are a total of 27 columns and 2,240 observations in the dataset\n",
        "- We can see that the Income column has less than 2,240 non-null values i.e. column has missing values. We'll explore this further\n"
      ]
    },
    {
      "cell_type": "markdown",
      "id": "9bc37f35",
      "metadata": {
        "id": "9bc37f35",
        "papermill": {
          "duration": null,
          "end_time": null,
          "exception": null,
          "start_time": null,
          "status": "pending"
        },
        "tags": []
      },
      "source": [
        "### Let's check the percentage of missing values for the Income column."
      ]
    },
    {
      "cell_type": "code",
      "execution_count": null,
      "id": "b80e1333",
      "metadata": {
        "id": "b80e1333",
        "papermill": {
          "duration": null,
          "end_time": null,
          "exception": null,
          "start_time": null,
          "status": "pending"
        },
        "tags": []
      },
      "outputs": [],
      "source": [
        "# % Null values in the Income column\n",
        "\n",
        "(df.isnull().sum()/df.shape[0]*100)['Income']"
      ]
    },
    {
      "cell_type": "markdown",
      "id": "617a1f88",
      "metadata": {
        "id": "617a1f88",
        "papermill": {
          "duration": null,
          "end_time": null,
          "exception": null,
          "start_time": null,
          "status": "pending"
        },
        "tags": []
      },
      "source": [
        "**Observations:**\n",
        "- Income has ~1.07% missing values."
      ]
    },
    {
      "cell_type": "markdown",
      "id": "017eb928",
      "metadata": {
        "id": "017eb928",
        "papermill": {
          "duration": null,
          "end_time": null,
          "exception": null,
          "start_time": null,
          "status": "pending"
        },
        "tags": []
      },
      "source": [
        "### Let's create a list for numerical columns in the dataset and check the summary statistics "
      ]
    },
    {
      "cell_type": "markdown",
      "id": "e767717c",
      "metadata": {
        "id": "e767717c",
        "papermill": {
          "duration": null,
          "end_time": null,
          "exception": null,
          "start_time": null,
          "status": "pending"
        },
        "tags": []
      },
      "source": [
        "### **Question 1: Find the summary statistics for numerical columns and write your observations. (use describe function).** - 4 Marks"
      ]
    },
    {
      "cell_type": "code",
      "execution_count": null,
      "id": "2e6a8883",
      "metadata": {
        "id": "2e6a8883",
        "papermill": {
          "duration": null,
          "end_time": null,
          "exception": null,
          "start_time": null,
          "status": "pending"
        },
        "tags": []
      },
      "outputs": [],
      "source": [
        "# num_cols contain numerical varibales \n",
        "num_cols=['Year_Birth','Income','Recency', 'MntWines', 'MntFruits',\n",
        "       'MntMeatProducts', 'MntFishProducts', 'MntSweetProducts',\n",
        "       'MntGoldProds', 'NumDealsPurchases', 'NumWebPurchases',\n",
        "       'NumCatalogPurchases', 'NumStorePurchases', 'NumWebVisitsMonth','Kidhome',\n",
        "       'Teenhome']"
      ]
    },
    {
      "cell_type": "code",
      "execution_count": null,
      "id": "f441c77c",
      "metadata": {
        "id": "f441c77c",
        "papermill": {
          "duration": null,
          "end_time": null,
          "exception": null,
          "start_time": null,
          "status": "pending"
        },
        "tags": []
      },
      "outputs": [],
      "source": [
        "# printing descriptive statistics of numerical columns\n",
        "\n",
        "#Uncomment the following code and fill in the blanks\n",
        "\n",
        "df[num_cols].describe().T"
      ]
    },
    {
      "cell_type": "markdown",
      "id": "8290ea34",
      "metadata": {
        "id": "8290ea34",
        "papermill": {
          "duration": null,
          "end_time": null,
          "exception": null,
          "start_time": null,
          "status": "pending"
        },
        "tags": []
      },
      "source": [
        "**Observations:**\n",
        "\n",
        "- The average household income of the customer is 52247.25, and the median household income of the customer is 51381.5, and it's slightly right-skewed. Besides, it has a high range from 1,730 (min) to 66,6666(max). Chief Marketing Officer (CMO) should segment the marketing campaign based on income.\n",
        "\n",
        "- Similarly, the 'Recency' has an average of ~ 50 and has a high range from 0 (min) to 99 (max). Here, 'Recency' meant \"Number of days since the last purchase.\"\n",
        "\n",
        "- On average, the amount spent on fish products in the last 2 years (MntFishProducts) is 37.52\n",
        "-\tOn average, the amount spent on meat products in the last 2 years (MntMeatProducts) is 166.95\n",
        "-\tOn average, the amount spent on fruits products in the last 2 years (MntFruits) is 26.30\n",
        "-\tOn average, the amount spent on sweet products in the last 2 years (MntSweetProducts) is 27.06\n",
        "-\tOn average, the amount spent on wine products in the last 2 years (MntWine) is 303.93\n",
        "-\tOn average, the amount spent on gold products in the last 2 years (MntGoldProds) is 44.02\n",
        "\n",
        "- On average, the customer made 2.32 number Number of purchases made with discount (NumDealsPurchases) and the maximum number of purchases made directly in stores is 15.\n",
        "\n",
        "- On average, the customer made 4.08 purchases through the company's website, and the medium is 4. Hence, it's slightly right-skewed. On the other hand, the maximum number of purchases customer made through the company website is 27.\n",
        "\n",
        "- On average, the customer made 2.66 number purchases made using catalog (buying goods to be shipped through the mail). Besides, the maximum number of purchases made directly in stores is 28.\n",
        "\n",
        "- On average, the customer made 5.79 number of purchases made directly in stores, and the medium is 5. Hence, it's slightly right-skewed. On the other hand, the maximum number of purchases made directly in stores is 13.\n",
        "\n",
        "- On average, the customer made 5.31 number of visits to company's website in the last month (NumWebVisitsMonth), and the medium is 6. Hence, it's left-skewed. On the other hand, the maximum number of purchases made directly in stores is 20.\n",
        "\n",
        "- 2 is the maxmimum numbers of childrens, that is 'Kidhome' and 'Teenhome'\n",
        "\n"
      ]
    },
    {
      "cell_type": "markdown",
      "id": "d70dfe7f",
      "metadata": {
        "id": "d70dfe7f",
        "papermill": {
          "duration": null,
          "end_time": null,
          "exception": null,
          "start_time": null,
          "status": "pending"
        },
        "tags": []
      },
      "source": [
        "### Let's create a list for categorical columns in the dataset and check the count of each category"
      ]
    },
    {
      "cell_type": "code",
      "execution_count": null,
      "id": "d0193950",
      "metadata": {
        "id": "d0193950",
        "papermill": {
          "duration": null,
          "end_time": null,
          "exception": null,
          "start_time": null,
          "status": "pending"
        },
        "tags": []
      },
      "outputs": [],
      "source": [
        "#cat_cols contain categorical variables\n",
        "cat_cols=['Education', 'Marital_Status', 'AcceptedCmp3', 'AcceptedCmp4', 'AcceptedCmp5', 'AcceptedCmp1',\n",
        "       'AcceptedCmp2', 'AcceptedCmp6', 'Complain', 'Country']"
      ]
    },
    {
      "cell_type": "code",
      "execution_count": null,
      "id": "9a9a69d4",
      "metadata": {
        "id": "9a9a69d4",
        "papermill": {
          "duration": null,
          "end_time": null,
          "exception": null,
          "start_time": null,
          "status": "pending"
        },
        "tags": []
      },
      "outputs": [],
      "source": [
        "# Printing the count of each unique value in each column\n",
        "\n",
        "for column in cat_cols:\n",
        "    print(df[column].value_counts(normalize=True))\n",
        "    print(\"-\" * 40)"
      ]
    },
    {
      "cell_type": "markdown",
      "id": "05051c51",
      "metadata": {
        "id": "05051c51",
        "papermill": {
          "duration": null,
          "end_time": null,
          "exception": null,
          "start_time": null,
          "status": "pending"
        },
        "tags": []
      },
      "source": [
        "**Observations:**\n",
        "- In education, 2n cycle and Master means the same thing. We can combine these two categories.\n",
        "- There are many categories in marital status. We can combine the category 'Alone' with 'Single'.\n",
        "- It is not clear from the data that what do the terms 'Absurd', and 'YOLO' actually mean. We can combine these categories to make a new category - 'Others'.\n",
        "- There are only 21 customers who complained in the last two years.\n",
        "- The majority of the customers belong to Spain and least to Mexico.\n",
        "- The most common educational status is Graduation\n",
        "- The most common marital status is Married"
      ]
    },
    {
      "cell_type": "markdown",
      "id": "293970ca",
      "metadata": {
        "id": "293970ca",
        "papermill": {
          "duration": null,
          "end_time": null,
          "exception": null,
          "start_time": null,
          "status": "pending"
        },
        "tags": []
      },
      "source": [
        "## Data Preprocessing and Exploratory Data Analysis\n",
        "\n",
        "In this section, we will first prepare our dataset for analysis.\n",
        "- Fixing the categories\n",
        "- Creating new columns as the total amount spent, total purchase made, total kids at home, and total accepted campaigns\n",
        "- Dealing with missing values and outliers\n",
        "- Extract key insights from the data"
      ]
    },
    {
      "cell_type": "markdown",
      "id": "b025d3ba",
      "metadata": {
        "id": "b025d3ba",
        "papermill": {
          "duration": null,
          "end_time": null,
          "exception": null,
          "start_time": null,
          "status": "pending"
        },
        "tags": []
      },
      "source": [
        "### Replacing the \"2n Cycle\" category with \"Master\" in Education and \"YOLO\", \"Alone\", and \"Absurd\" categories with \"Single\" in Marital_Status"
      ]
    },
    {
      "cell_type": "code",
      "execution_count": null,
      "id": "fc7c43a4",
      "metadata": {
        "id": "fc7c43a4",
        "papermill": {
          "duration": null,
          "end_time": null,
          "exception": null,
          "start_time": null,
          "status": "pending"
        },
        "tags": []
      },
      "outputs": [],
      "source": [
        "# Replacing 2n Cycle with Master\n",
        "\n",
        "df[\"Education\"].replace(\"2n Cycle\", \"Master\", inplace=True)"
      ]
    },
    {
      "cell_type": "code",
      "execution_count": null,
      "id": "e41e11ca",
      "metadata": {
        "id": "e41e11ca",
        "papermill": {
          "duration": null,
          "end_time": null,
          "exception": null,
          "start_time": null,
          "status": "pending"
        },
        "tags": []
      },
      "outputs": [],
      "source": [
        "# Replacing YOLO, Alone, Absurd with Single\n",
        "\n",
        "df[\"Marital_Status\"].replace([\"Alone\",], \"Single\", inplace=True)"
      ]
    },
    {
      "cell_type": "code",
      "execution_count": null,
      "id": "0d5ca5a0",
      "metadata": {
        "id": "0d5ca5a0",
        "papermill": {
          "duration": null,
          "end_time": null,
          "exception": null,
          "start_time": null,
          "status": "pending"
        },
        "tags": []
      },
      "outputs": [],
      "source": [
        "df['Marital_Status'].replace([\"Absurd\", \"YOLO\"], \"Others\", inplace=True)"
      ]
    },
    {
      "cell_type": "markdown",
      "id": "371f7274",
      "metadata": {
        "id": "371f7274",
        "papermill": {
          "duration": null,
          "end_time": null,
          "exception": null,
          "start_time": null,
          "status": "pending"
        },
        "tags": []
      },
      "source": [
        "We have fixed the categories in the Marital_Status. Now, let's see the distribution count in different categories for marital status."
      ]
    },
    {
      "cell_type": "code",
      "execution_count": null,
      "id": "62f4b0fc",
      "metadata": {
        "id": "62f4b0fc",
        "papermill": {
          "duration": null,
          "end_time": null,
          "exception": null,
          "start_time": null,
          "status": "pending"
        },
        "tags": []
      },
      "outputs": [],
      "source": [
        "df.Marital_Status.value_counts()"
      ]
    },
    {
      "cell_type": "markdown",
      "id": "cf328cb1",
      "metadata": {
        "id": "cf328cb1",
        "papermill": {
          "duration": null,
          "end_time": null,
          "exception": null,
          "start_time": null,
          "status": "pending"
        },
        "tags": []
      },
      "source": [
        "**Observation**:\n",
        "\n",
        "- The majority of customer belong to married category and the other category have only 4 observations."
      ]
    },
    {
      "cell_type": "markdown",
      "id": "f72268e9",
      "metadata": {
        "id": "f72268e9",
        "papermill": {
          "duration": null,
          "end_time": null,
          "exception": null,
          "start_time": null,
          "status": "pending"
        },
        "tags": []
      },
      "source": [
        "### Creating new features from the existing features"
      ]
    },
    {
      "cell_type": "code",
      "execution_count": null,
      "id": "5e849bcd",
      "metadata": {
        "id": "5e849bcd",
        "papermill": {
          "duration": null,
          "end_time": null,
          "exception": null,
          "start_time": null,
          "status": "pending"
        },
        "tags": []
      },
      "outputs": [],
      "source": [
        "# creating new features to get overll picture of a customer, how much he/she has spend, how many children he/she has, total campaigns accepted etc.\n",
        "\n",
        "\n",
        "# total spending by a customer\n",
        "spending_col = [col for col in df.columns if 'Mnt' in col]\n",
        "df['Total_Spending'] = df[spending_col].sum(axis = 1) \n",
        "\n",
        "#total purchases made by a customer\n",
        "platform_col = [col for col in df.columns if 'Purchases' in col]\n",
        "df['Total_Purchase'] = df[platform_col].sum(axis = 1) \n",
        "\n",
        "#total no. of childern\n",
        "df['NumberofChildren'] = df['Kidhome'] + df['Teenhome']  \n",
        "\n",
        "# Total no. of campaign accepted by a customer\n",
        "campaigns_cols = [col for col in df.columns if 'Cmp' in col]\n",
        "df['TotalCampaignsAcc'] = df[campaigns_cols].sum(axis=1)"
      ]
    },
    {
      "cell_type": "markdown",
      "id": "e74d6f12",
      "metadata": {
        "id": "e74d6f12",
        "papermill": {
          "duration": null,
          "end_time": null,
          "exception": null,
          "start_time": null,
          "status": "pending"
        },
        "tags": []
      },
      "source": [
        "### Let's check outliers for new variables - Total_Spending, Total_Purchase. Also, let's analyze the Year_Birth column as we observed above that it had a minimum value of 1893."
      ]
    },
    {
      "cell_type": "code",
      "execution_count": null,
      "id": "31cdb428",
      "metadata": {
        "id": "31cdb428",
        "papermill": {
          "duration": null,
          "end_time": null,
          "exception": null,
          "start_time": null,
          "status": "pending"
        },
        "tags": []
      },
      "outputs": [],
      "source": [
        "# Plotting boxplot for Year_Birth, Total_Spending, Total_Purchase\n",
        "\n",
        "cols=['Year_Birth','Total_Spending','Total_Purchase']\n",
        "for i in cols:\n",
        "    sns.boxplot(x=df[i])\n",
        "    plt.show()"
      ]
    },
    {
      "cell_type": "markdown",
      "id": "3e7286f7",
      "metadata": {
        "id": "3e7286f7",
        "papermill": {
          "duration": null,
          "end_time": null,
          "exception": null,
          "start_time": null,
          "status": "pending"
        },
        "tags": []
      },
      "source": [
        "**Observations:**\n",
        "- The birth year is reported as <=1900 for some users, while the current year is 2021. it's very unlikely that the person is alive. it may be a reporting error.\n",
        "- There are some outliers in total spending and total purchase. \n",
        "- The observations marked as outliers are very closed to the upper whisker and some extreme points can be expected for variables like total spending. We can leave these outliers untreated. "
      ]
    },
    {
      "cell_type": "markdown",
      "id": "1eaa0ae5",
      "metadata": {
        "id": "1eaa0ae5",
        "papermill": {
          "duration": null,
          "end_time": null,
          "exception": null,
          "start_time": null,
          "status": "pending"
        },
        "tags": []
      },
      "source": [
        "Let's check the number of observations for which year birth is less than 1900. "
      ]
    },
    {
      "cell_type": "code",
      "execution_count": null,
      "id": "df716977",
      "metadata": {
        "id": "df716977",
        "papermill": {
          "duration": null,
          "end_time": null,
          "exception": null,
          "start_time": null,
          "status": "pending"
        },
        "tags": []
      },
      "outputs": [],
      "source": [
        "df[df['Year_Birth'] < 1900]"
      ]
    },
    {
      "cell_type": "markdown",
      "id": "fc02b473",
      "metadata": {
        "id": "fc02b473",
        "papermill": {
          "duration": null,
          "end_time": null,
          "exception": null,
          "start_time": null,
          "status": "pending"
        },
        "tags": []
      },
      "source": [
        "**Observation**:\n",
        "- There are only 2 observations for which birth year is less than 1900. We can drop these observations."
      ]
    },
    {
      "cell_type": "code",
      "execution_count": null,
      "id": "dba8498f",
      "metadata": {
        "id": "dba8498f",
        "papermill": {
          "duration": null,
          "end_time": null,
          "exception": null,
          "start_time": null,
          "status": "pending"
        },
        "tags": []
      },
      "outputs": [],
      "source": [
        "#keeping data for customers having birth year >1900\n",
        "\n",
        "df = df[df['Year_Birth'] > 1900]"
      ]
    },
    {
      "cell_type": "markdown",
      "id": "75b053e6",
      "metadata": {
        "id": "75b053e6",
        "papermill": {
          "duration": null,
          "end_time": null,
          "exception": null,
          "start_time": null,
          "status": "pending"
        },
        "tags": []
      },
      "source": [
        "### Check the outliers and impute the missing values for the Income variable"
      ]
    },
    {
      "cell_type": "code",
      "execution_count": null,
      "id": "c10b5080",
      "metadata": {
        "id": "c10b5080",
        "papermill": {
          "duration": null,
          "end_time": null,
          "exception": null,
          "start_time": null,
          "status": "pending"
        },
        "tags": []
      },
      "outputs": [],
      "source": [
        "#plotting Boxplot for income\n",
        "\n",
        "plt.figure(figsize=(10,4))\n",
        "sns.boxplot(df['Income'])\n",
        "plt.title('Income boxplot', size=16)\n",
        "plt.show()"
      ]
    },
    {
      "cell_type": "markdown",
      "id": "512a1261",
      "metadata": {
        "id": "512a1261",
        "papermill": {
          "duration": null,
          "end_time": null,
          "exception": null,
          "start_time": null,
          "status": "pending"
        },
        "tags": []
      },
      "source": [
        "**Observations:**\n",
        "\n",
        "- We can see from the boxplot that there are some outliers in the income variable.\n",
        "- Let's find the value at upper whisker to check how many observations are marked as outliers.\n"
      ]
    },
    {
      "cell_type": "code",
      "execution_count": null,
      "id": "ad07bc74",
      "metadata": {
        "id": "ad07bc74",
        "papermill": {
          "duration": null,
          "end_time": null,
          "exception": null,
          "start_time": null,
          "status": "pending"
        },
        "tags": []
      },
      "outputs": [],
      "source": [
        "#Calculating the upper whisker for the Income variable\n",
        "\n",
        "Q1 = df.quantile(q=0.25) #First quartile\n",
        "Q3 = df.quantile(q=0.75) #Third quartile\n",
        "IQR = Q3 - Q1            #Inter Quartile Range\n",
        "\n",
        "upper_whisker = (Q3 + 1.5*IQR)['Income']   #Upper Whisker\n",
        "print(upper_whisker)"
      ]
    },
    {
      "cell_type": "code",
      "execution_count": null,
      "id": "43ca25b7",
      "metadata": {
        "id": "43ca25b7",
        "papermill": {
          "duration": null,
          "end_time": null,
          "exception": null,
          "start_time": null,
          "status": "pending"
        },
        "tags": []
      },
      "outputs": [],
      "source": [
        "#Checking the observations marked as outliers\n",
        "df[df.Income>upper_whisker]"
      ]
    },
    {
      "cell_type": "markdown",
      "id": "040e3bc9",
      "metadata": {
        "id": "040e3bc9",
        "papermill": {
          "duration": null,
          "end_time": null,
          "exception": null,
          "start_time": null,
          "status": "pending"
        },
        "tags": []
      },
      "source": [
        "**Observations**:\n",
        "\n",
        "- We have only 8 observations with an income greater than the upper whisker. \n",
        "- Only 3 observations (ID- 4931, 1501, 8475) out of 8 outliers have purchased more than 11 times in the last 2 years.\n",
        "- Other 5 observations have very less amount of total spending."
      ]
    },
    {
      "cell_type": "markdown",
      "id": "1837e3f5",
      "metadata": {
        "id": "1837e3f5",
        "papermill": {
          "duration": null,
          "end_time": null,
          "exception": null,
          "start_time": null,
          "status": "pending"
        },
        "tags": []
      },
      "source": [
        "**Let's compare the summary statistics for these observations with observations on the other side of the upper whisker.**"
      ]
    },
    {
      "cell_type": "code",
      "execution_count": null,
      "id": "c40f386d",
      "metadata": {
        "id": "c40f386d",
        "papermill": {
          "duration": null,
          "end_time": null,
          "exception": null,
          "start_time": null,
          "status": "pending"
        },
        "tags": []
      },
      "outputs": [],
      "source": [
        "#Checking the summary statistics for observations marked as outliers\n",
        "df[df.Income>upper_whisker].describe().T"
      ]
    },
    {
      "cell_type": "code",
      "execution_count": null,
      "id": "5b34ce23",
      "metadata": {
        "id": "5b34ce23",
        "papermill": {
          "duration": null,
          "end_time": null,
          "exception": null,
          "start_time": null,
          "status": "pending"
        },
        "tags": []
      },
      "outputs": [],
      "source": [
        "#Checking the summary statistics for observations not marked as outliers\n",
        "df[df.Income<upper_whisker].describe().T"
      ]
    },
    {
      "cell_type": "markdown",
      "id": "c7ff2e16",
      "metadata": {
        "id": "c7ff2e16",
        "papermill": {
          "duration": null,
          "end_time": null,
          "exception": null,
          "start_time": null,
          "status": "pending"
        },
        "tags": []
      },
      "source": [
        "**Observations**:\n",
        "\n",
        "- None of the outliers have accepted any of the campaigns or have submitted any complaints in the last 2 years.\n",
        "- We can see that customers who are outliers have lower mean expenditure per customer for all the products except meat products.\n",
        "- The outliers have a higher number of catalog purchases on average and very low number of web purchases.\n",
        "- We can drop the 5 observations at indices [527, 731, 853, 1826, 1925] as they would not add value to our analysis."
      ]
    },
    {
      "cell_type": "code",
      "execution_count": null,
      "id": "89d3a283",
      "metadata": {
        "id": "89d3a283",
        "papermill": {
          "duration": null,
          "end_time": null,
          "exception": null,
          "start_time": null,
          "status": "pending"
        },
        "tags": []
      },
      "outputs": [],
      "source": [
        "#Dropping 5 observations at indexes 527, 731, 853, 1826, 1925\n",
        "df.drop(index=[527, 731, 853, 1826, 1925], inplace=True)"
      ]
    },
    {
      "cell_type": "markdown",
      "id": "9ee365fd",
      "metadata": {
        "id": "9ee365fd",
        "papermill": {
          "duration": null,
          "end_time": null,
          "exception": null,
          "start_time": null,
          "status": "pending"
        },
        "tags": []
      },
      "source": [
        "### Check the distribution for Income"
      ]
    },
    {
      "cell_type": "code",
      "execution_count": null,
      "id": "e59816a1",
      "metadata": {
        "id": "e59816a1",
        "papermill": {
          "duration": null,
          "end_time": null,
          "exception": null,
          "start_time": null,
          "status": "pending"
        },
        "tags": []
      },
      "outputs": [],
      "source": [
        "#plotting displot for income\n",
        "\n",
        "#uncomment the lines of code given below\n",
        "sns.displot(df['Income'], kde=True, height=5, aspect=2)\n",
        "plt.title('Income distribution', size=16, )\n",
        "plt.ylabel('count');"
      ]
    },
    {
      "cell_type": "markdown",
      "id": "74f218fb",
      "metadata": {
        "id": "74f218fb",
        "papermill": {
          "duration": null,
          "end_time": null,
          "exception": null,
          "start_time": null,
          "status": "pending"
        },
        "tags": []
      },
      "source": [
        "**Observations:**\n",
        "\n",
        "- After treating outliers, the distribution for the income variable is close to normal distribution with very few extreme observations to the right.\n",
        "- We will replace the missing values for the income variable with the median, and not mean, as the variable is slightly skewed to the right"
      ]
    },
    {
      "cell_type": "code",
      "execution_count": null,
      "id": "14215f7c",
      "metadata": {
        "id": "14215f7c",
        "papermill": {
          "duration": null,
          "end_time": null,
          "exception": null,
          "start_time": null,
          "status": "pending"
        },
        "tags": []
      },
      "outputs": [],
      "source": [
        "#filling null values with median\n",
        "\n",
        "df['Income'].fillna(df.Income.median(), inplace=True)"
      ]
    },
    {
      "cell_type": "markdown",
      "id": "b077bf90",
      "metadata": {
        "id": "b077bf90",
        "papermill": {
          "duration": null,
          "end_time": null,
          "exception": null,
          "start_time": null,
          "status": "pending"
        },
        "tags": []
      },
      "source": [
        "### Analyzing all the campaigns"
      ]
    },
    {
      "cell_type": "markdown",
      "id": "33e57768",
      "metadata": {
        "id": "33e57768",
        "papermill": {
          "duration": null,
          "end_time": null,
          "exception": null,
          "start_time": null,
          "status": "pending"
        },
        "tags": []
      },
      "source": [
        "### **Question 2: Write your observations on acceptance rate for each campaign given in the below plot.** - 4 Marks"
      ]
    },
    {
      "cell_type": "markdown",
      "id": "f1c4fabc",
      "metadata": {
        "id": "f1c4fabc",
        "papermill": {
          "duration": null,
          "end_time": null,
          "exception": null,
          "start_time": null,
          "status": "pending"
        },
        "tags": []
      },
      "source": [
        "#### Let's find out what is the acceptance rate for each campaign?"
      ]
    },
    {
      "cell_type": "code",
      "execution_count": null,
      "id": "44eca260",
      "metadata": {
        "id": "44eca260",
        "papermill": {
          "duration": null,
          "end_time": null,
          "exception": null,
          "start_time": null,
          "status": "pending"
        },
        "tags": []
      },
      "outputs": [],
      "source": [
        "# PLotting the % acceptance for every campaign\n",
        "\n",
        "Camp_cols=['AcceptedCmp1', 'AcceptedCmp2', 'AcceptedCmp3', 'AcceptedCmp4', 'AcceptedCmp5', 'AcceptedCmp6']\n",
        "\n",
        "success_campaign=(df[Camp_cols].sum()/df.shape[0])*100\n",
        "\n",
        "# plot\n",
        "success_campaign.plot(kind='bar', figsize=(6,6))\n",
        "plt.ylabel(\"Perentage\")\n",
        "plt.show()\n"
      ]
    },
    {
      "cell_type": "markdown",
      "id": "0d7c2007",
      "metadata": {
        "id": "0d7c2007",
        "papermill": {
          "duration": null,
          "end_time": null,
          "exception": null,
          "start_time": null,
          "status": "pending"
        },
        "tags": []
      },
      "source": [
        "**Observations:**\n",
        "\n",
        "- The acceptance rate for the campaign \"AcceptedCmp1\" is around 7.5 % \n",
        "- The acceptance rate for the campaign \"AcceptedCmp2\" is around 15.5 %\n",
        "- The acceptance rate for the campaign \"AcceptedCmp3\" is around 7.5 % \n",
        "- The acceptance rate for the campaign \"AcceptedCmp4\" is around 7 % \n",
        "- The acceptance rate for the campaign \"AcceptedCmp5\" is around 8 % \n",
        "- The acceptance rate for the campaign \"AcceptedCmp6\" is around 1.02 % "
      ]
    },
    {
      "cell_type": "markdown",
      "id": "a7225529",
      "metadata": {
        "id": "a7225529",
        "papermill": {
          "duration": null,
          "end_time": null,
          "exception": null,
          "start_time": null,
          "status": "pending"
        },
        "tags": []
      },
      "source": [
        "### Let's analyze what kind of customer are accepting campaigns?"
      ]
    },
    {
      "cell_type": "code",
      "execution_count": null,
      "id": "82e21799",
      "metadata": {
        "id": "82e21799",
        "papermill": {
          "duration": null,
          "end_time": null,
          "exception": null,
          "start_time": null,
          "status": "pending"
        },
        "tags": []
      },
      "outputs": [],
      "source": [
        "#uncomment the lines of code given below\n",
        "\n",
        "plt.figure(figsize=(8,8))\n",
        "sns.swarmplot(x='TotalCampaignsAcc', y='Income', data=df)\n",
        "plt.show()"
      ]
    },
    {
      "cell_type": "markdown",
      "id": "f7035ed4",
      "metadata": {
        "id": "f7035ed4",
        "papermill": {
          "duration": null,
          "end_time": null,
          "exception": null,
          "start_time": null,
          "status": "pending"
        },
        "tags": []
      },
      "source": [
        "**Observations:**\n",
        "- Higher the income higher the number of campaigns accepted."
      ]
    },
    {
      "cell_type": "code",
      "execution_count": null,
      "id": "ea30b205",
      "metadata": {
        "id": "ea30b205",
        "papermill": {
          "duration": null,
          "end_time": null,
          "exception": null,
          "start_time": null,
          "status": "pending"
        },
        "tags": []
      },
      "outputs": [],
      "source": [
        "# Let's see the mean income of customers\n",
        "df.Income.mean()"
      ]
    },
    {
      "cell_type": "markdown",
      "id": "e77aff98",
      "metadata": {
        "id": "e77aff98",
        "papermill": {
          "duration": null,
          "end_time": null,
          "exception": null,
          "start_time": null,
          "status": "pending"
        },
        "tags": []
      },
      "source": [
        "### **Question 3: Write your observations on acceptance rate for each campaign according to the income level.** - 7 Marks"
      ]
    },
    {
      "cell_type": "markdown",
      "id": "d319efdd",
      "metadata": {
        "id": "d319efdd",
        "papermill": {
          "duration": null,
          "end_time": null,
          "exception": null,
          "start_time": null,
          "status": "pending"
        },
        "tags": []
      },
      "source": [
        "The mean income of customers is close to 52K. Let's divide the income into 2 segments of income>52k and income<52k and see the acceptance rate in each segment."
      ]
    },
    {
      "cell_type": "code",
      "execution_count": null,
      "id": "d68546d0",
      "metadata": {
        "id": "d68546d0",
        "papermill": {
          "duration": null,
          "end_time": null,
          "exception": null,
          "start_time": null,
          "status": "pending"
        },
        "tags": []
      },
      "outputs": [],
      "source": [
        "# making dataframes of customers having income <52k and >52K\n",
        "df1=df[df.Income<52000]\n",
        "df2=df[df.Income>52000]\n",
        "\n",
        "Camp_cols=['AcceptedCmp1', 'AcceptedCmp2', 'AcceptedCmp3', 'AcceptedCmp4', 'AcceptedCmp5', 'AcceptedCmp6']\n",
        "\n",
        "#Calculating success rate of each campaing for both segments \n",
        "success_campaign1=pd.DataFrame((df1[Camp_cols].sum()/df1.shape[0])*100, columns=['Income <52K'])\n",
        "\n",
        "success_campaign2=pd.DataFrame((df2[Camp_cols].sum()/df2.shape[0])*100, columns=['Income >52K'])\n",
        "\n",
        "new_df=pd.concat([success_campaign1, success_campaign2], axis=1)\n",
        "\n",
        "# plot\n",
        "plt.figure(figsize=(8,8))\n",
        "sns.lineplot(data=new_df)\n",
        "plt.title(\"Percentage Acceptance of each campaign\")\n",
        "plt.ylabel(\"Percentage Acceptance of a campaign\")\n",
        "plt.show()"
      ]
    },
    {
      "cell_type": "markdown",
      "id": "890c7882",
      "metadata": {
        "id": "890c7882",
        "papermill": {
          "duration": null,
          "end_time": null,
          "exception": null,
          "start_time": null,
          "status": "pending"
        },
        "tags": []
      },
      "source": [
        "**Observations:**\n",
        "\n",
        "- The acceptance rate for the customers campaign 1, 2, 3, 4, 5, and 6, whose income >52,000 are around 6 %, 19%, 15%, 12.5%, 12%, and 6% respectively. \n",
        "\n",
        "- The acceptance rate for the customers campaign 1, 2, 3, 4, 5, and 6, whose income <52000 are around 8 %, 11%, 0.05%, 1.02%, 2.5%, and 1% respectively. "
      ]
    },
    {
      "cell_type": "markdown",
      "id": "0333417f",
      "metadata": {
        "id": "0333417f",
        "papermill": {
          "duration": null,
          "end_time": null,
          "exception": null,
          "start_time": null,
          "status": "pending"
        },
        "tags": []
      },
      "source": [
        "Let's find out who has accepted the last campaign and what could be the reason?"
      ]
    },
    {
      "cell_type": "code",
      "execution_count": null,
      "id": "fbf85bfc",
      "metadata": {
        "id": "fbf85bfc",
        "papermill": {
          "duration": null,
          "end_time": null,
          "exception": null,
          "start_time": null,
          "status": "pending"
        },
        "tags": []
      },
      "outputs": [],
      "source": [
        "#uncomment the lines of code given below.\n",
        "\n",
        "df[df['AcceptedCmp6']==1].shape"
      ]
    },
    {
      "cell_type": "markdown",
      "id": "7acf9a41",
      "metadata": {
        "id": "7acf9a41",
        "papermill": {
          "duration": null,
          "end_time": null,
          "exception": null,
          "start_time": null,
          "status": "pending"
        },
        "tags": []
      },
      "source": [
        "- There are only 30 customers who have accepted the last campaign.\n",
        "- Let's check if these customers are new or they have accepted previous campaigns as well."
      ]
    },
    {
      "cell_type": "code",
      "execution_count": null,
      "id": "d1e6a86a",
      "metadata": {
        "id": "d1e6a86a",
        "papermill": {
          "duration": null,
          "end_time": null,
          "exception": null,
          "start_time": null,
          "status": "pending"
        },
        "tags": []
      },
      "outputs": [],
      "source": [
        "grouped2=df.groupby('AcceptedCmp6').mean()['TotalCampaignsAcc']\n",
        "grouped2"
      ]
    },
    {
      "cell_type": "markdown",
      "id": "bbf74ef9",
      "metadata": {
        "id": "bbf74ef9",
        "papermill": {
          "duration": null,
          "end_time": null,
          "exception": null,
          "start_time": null,
          "status": "pending"
        },
        "tags": []
      },
      "source": [
        "**Observations:**\n",
        "- We know that the maximum number of campaigns any customer has accepted is 5.\n",
        "- We can observe that the value for TotalCampaignsAcc is ~3.6 for customers who have accepted the last campaign.\n",
        "- This implies that these 30 customers are those loyal customers who have been accepting most of the campaigns."
      ]
    },
    {
      "cell_type": "markdown",
      "id": "5054dda2",
      "metadata": {
        "id": "5054dda2",
        "papermill": {
          "duration": null,
          "end_time": null,
          "exception": null,
          "start_time": null,
          "status": "pending"
        },
        "tags": []
      },
      "source": [
        "### It could be that different campaigns are focussed on different set of products. Let's check if the product preference for those who accepted the campaigns is different from those who didn't - using amount spent and number of purchases"
      ]
    },
    {
      "cell_type": "markdown",
      "id": "a72ae59f",
      "metadata": {
        "id": "a72ae59f",
        "papermill": {
          "duration": null,
          "end_time": null,
          "exception": null,
          "start_time": null,
          "status": "pending"
        },
        "tags": []
      },
      "source": [
        "Let's define a function which will take the column name for the product as input and will generate the barplot for every campaign and average amount spent on a product"
      ]
    },
    {
      "cell_type": "code",
      "execution_count": null,
      "id": "cdeb86c8",
      "metadata": {
        "id": "cdeb86c8",
        "papermill": {
          "duration": null,
          "end_time": null,
          "exception": null,
          "start_time": null,
          "status": "pending"
        },
        "tags": []
      },
      "outputs": [],
      "source": [
        "def amount_per_campaign(columns_name):\n",
        "    p1=pd.DataFrame(df.groupby(['AcceptedCmp1']).mean()[columns_name]).T\n",
        "    p2=pd.DataFrame(df.groupby(['AcceptedCmp2']).mean()[columns_name]).T\n",
        "    p3=pd.DataFrame(df.groupby(['AcceptedCmp3']).mean()[columns_name]).T\n",
        "    p4=pd.DataFrame(df.groupby(['AcceptedCmp4']).mean()[columns_name]).T\n",
        "    p5=pd.DataFrame(df.groupby(['AcceptedCmp5']).mean()[columns_name]).T\n",
        "    p6=pd.DataFrame(df.groupby(['AcceptedCmp6']).mean()[columns_name]).T\n",
        "    pd.concat([p1,p2,p3,p4,p5,p6],axis=0).set_index([Camp_cols]).plot(kind='line', figsize=(8,8))\n",
        "    plt.ylabel('Average amount spend on' + ' ' + columns_name)\n",
        "    plt.show()"
      ]
    },
    {
      "cell_type": "markdown",
      "id": "a22a1de3",
      "metadata": {
        "id": "a22a1de3",
        "papermill": {
          "duration": null,
          "end_time": null,
          "exception": null,
          "start_time": null,
          "status": "pending"
        },
        "tags": []
      },
      "source": [
        "#### Use the function defined above to generate barplots for different purchasing Products"
      ]
    },
    {
      "cell_type": "code",
      "execution_count": null,
      "id": "00006fa8",
      "metadata": {
        "id": "00006fa8",
        "papermill": {
          "duration": null,
          "end_time": null,
          "exception": null,
          "start_time": null,
          "status": "pending"
        },
        "tags": []
      },
      "outputs": [],
      "source": [
        "#here is an example showing how to use this fuction on the column MntWines\n",
        "amount_per_campaign('MntWines')"
      ]
    },
    {
      "cell_type": "markdown",
      "id": "7fb6c349",
      "metadata": {
        "id": "7fb6c349",
        "papermill": {
          "duration": null,
          "end_time": null,
          "exception": null,
          "start_time": null,
          "status": "pending"
        },
        "tags": []
      },
      "source": [
        "**Observations:**\n",
        "- For the customers accepting campaign 3, 4, 5, and 6 the average amount spent on wine is quite high."
      ]
    },
    {
      "cell_type": "markdown",
      "id": "87766fd9",
      "metadata": {
        "id": "87766fd9",
        "papermill": {
          "duration": null,
          "end_time": null,
          "exception": null,
          "start_time": null,
          "status": "pending"
        },
        "tags": []
      },
      "source": [
        "### **Question 4: Write the code and your observations on average amount spent on different products across all campaigns.** - 7 Marks"
      ]
    },
    {
      "cell_type": "code",
      "execution_count": null,
      "id": "c5392f31",
      "metadata": {
        "id": "c5392f31",
        "papermill": {
          "duration": null,
          "end_time": null,
          "exception": null,
          "start_time": null,
          "status": "pending"
        },
        "tags": []
      },
      "outputs": [],
      "source": [
        "#meat products\n",
        "\n",
        "#call the function amount_per_campaign for MntMeatProducts\n",
        "\n",
        "amount_per_campaign('MntMeatProducts')"
      ]
    },
    {
      "cell_type": "code",
      "execution_count": null,
      "id": "4eb74481",
      "metadata": {
        "id": "4eb74481",
        "papermill": {
          "duration": null,
          "end_time": null,
          "exception": null,
          "start_time": null,
          "status": "pending"
        },
        "tags": []
      },
      "outputs": [],
      "source": [
        "\n",
        "\n",
        "# Fruit products\n",
        "\n",
        "#call the function amount_per_campaign for MntFruits\n",
        "\n",
        "amount_per_campaign('MntFruits')"
      ]
    },
    {
      "cell_type": "code",
      "execution_count": null,
      "id": "1553df93",
      "metadata": {
        "id": "1553df93",
        "papermill": {
          "duration": null,
          "end_time": null,
          "exception": null,
          "start_time": null,
          "status": "pending"
        },
        "tags": []
      },
      "outputs": [],
      "source": [
        "# gold products\n",
        "\n",
        "#call the function amount_per_campaign for MntGoldProds\n",
        "\n",
        "amount_per_campaign('MntGoldProds')"
      ]
    },
    {
      "cell_type": "code",
      "execution_count": null,
      "id": "7c06fb3a",
      "metadata": {
        "id": "7c06fb3a",
        "papermill": {
          "duration": null,
          "end_time": null,
          "exception": null,
          "start_time": null,
          "status": "pending"
        },
        "tags": []
      },
      "outputs": [],
      "source": [
        "#sweet products\n",
        "\n",
        "#call the function amount_per_campaign for MntSweetProducts\n",
        "\n",
        "amount_per_campaign('MntSweetProducts')"
      ]
    },
    {
      "cell_type": "markdown",
      "id": "a4d23929",
      "metadata": {
        "id": "a4d23929",
        "papermill": {
          "duration": null,
          "end_time": null,
          "exception": null,
          "start_time": null,
          "status": "pending"
        },
        "tags": []
      },
      "source": [
        "**Observations:**\n",
        "\n",
        "- For the customers accepting campaigns 3 and 4, the average amount spent on meat is very high. In addition, for the customers accepting campaign 2, the average amount spent on meat is around 290.\n",
        "\n",
        "- For the customers accepting campaigns 3 and 4, the average amount spent on fruits is very high, above 55.\n",
        "\n",
        "- For the customers accepting campaigns 1, 2, 3, 4 and 6, the average amount spent on gold is high, above 60.\n",
        "\n",
        "- For the customers accepting campaigns 3 and 4, the average amount spent on sweet is very high, above 65. On the other hand, the average amount spent on sweets is relatively low for the customers accepting campaigns 1, 2, 5, 6, and 4."
      ]
    },
    {
      "cell_type": "markdown",
      "id": "f9337d94",
      "metadata": {
        "id": "f9337d94",
        "papermill": {
          "duration": null,
          "end_time": null,
          "exception": null,
          "start_time": null,
          "status": "pending"
        },
        "tags": []
      },
      "source": [
        "### We have analyzed the relationship between campaigns and different products. Now, let's see the relationship of campaigns with different purchasing channels."
      ]
    },
    {
      "cell_type": "markdown",
      "id": "c2a9fdb4",
      "metadata": {
        "id": "c2a9fdb4",
        "papermill": {
          "duration": null,
          "end_time": null,
          "exception": null,
          "start_time": null,
          "status": "pending"
        },
        "tags": []
      },
      "source": [
        "We have a defined a function which will take the column name of the channel name as input and will generate the barplot for every campaign and average purchase made through that channel if the campaign is accepted"
      ]
    },
    {
      "cell_type": "code",
      "execution_count": null,
      "id": "229d0d07",
      "metadata": {
        "id": "229d0d07",
        "papermill": {
          "duration": null,
          "end_time": null,
          "exception": null,
          "start_time": null,
          "status": "pending"
        },
        "tags": []
      },
      "outputs": [],
      "source": [
        "def Purchases_per_campaign(columns_name):\n",
        "    dp1=pd.DataFrame(df.groupby(['AcceptedCmp1']).mean()[columns_name]).T\n",
        "    dp2=pd.DataFrame(df.groupby(['AcceptedCmp2']).mean()[columns_name]).T\n",
        "    dp3=pd.DataFrame(df.groupby(['AcceptedCmp3']).mean()[columns_name]).T\n",
        "    dp4=pd.DataFrame(df.groupby(['AcceptedCmp4']).mean()[columns_name]).T\n",
        "    dp5=pd.DataFrame(df.groupby(['AcceptedCmp5']).mean()[columns_name]).T\n",
        "    dp6=pd.DataFrame(df.groupby(['AcceptedCmp6']).mean()[columns_name]).T\n",
        "    pd.concat([dp1,dp2,dp3,dp4,dp5,dp6],axis=0).set_index([Camp_cols]).plot(kind='line', figsize=(8,8))\n",
        "    plt.ylabel('Average' + ' ' + columns_name)\n",
        "    plt.show()"
      ]
    },
    {
      "cell_type": "code",
      "execution_count": null,
      "id": "dd985433",
      "metadata": {
        "id": "dd985433",
        "papermill": {
          "duration": null,
          "end_time": null,
          "exception": null,
          "start_time": null,
          "status": "pending"
        },
        "tags": []
      },
      "outputs": [],
      "source": [
        "#here is an example showing how to use this fuction on the column NumDealsPurchases\n",
        "Purchases_per_campaign('NumDealsPurchases')"
      ]
    },
    {
      "cell_type": "markdown",
      "id": "02d3521f",
      "metadata": {
        "id": "02d3521f",
        "papermill": {
          "duration": null,
          "end_time": null,
          "exception": null,
          "start_time": null,
          "status": "pending"
        },
        "tags": []
      },
      "source": [
        "**Observations:**\n",
        "- For the customers accepting campaign 3, 4, and 6 the average deals purchase is quite low."
      ]
    },
    {
      "cell_type": "markdown",
      "id": "bbca262a",
      "metadata": {
        "id": "bbca262a",
        "papermill": {
          "duration": null,
          "end_time": null,
          "exception": null,
          "start_time": null,
          "status": "pending"
        },
        "tags": []
      },
      "source": [
        "### **Question 5: Write the code and your observations on average number of purchases from different channels across all campaigns.** - 7 Marks"
      ]
    },
    {
      "cell_type": "code",
      "execution_count": null,
      "id": "fb63712b",
      "metadata": {
        "id": "fb63712b",
        "papermill": {
          "duration": null,
          "end_time": null,
          "exception": null,
          "start_time": null,
          "status": "pending"
        },
        "tags": []
      },
      "outputs": [],
      "source": [
        "def Purchases_per_campaign(columns_name):\n",
        "    dp1=pd.DataFrame(df.groupby(['AcceptedCmp1']).mean()[columns_name]).T\n",
        "    dp2=pd.DataFrame(df.groupby(['AcceptedCmp2']).mean()[columns_name]).T\n",
        "    dp3=pd.DataFrame(df.groupby(['AcceptedCmp3']).mean()[columns_name]).T\n",
        "    dp4=pd.DataFrame(df.groupby(['AcceptedCmp4']).mean()[columns_name]).T\n",
        "    dp5=pd.DataFrame(df.groupby(['AcceptedCmp5']).mean()[columns_name]).T\n",
        "    dp6=pd.DataFrame(df.groupby(['AcceptedCmp6']).mean()[columns_name]).T\n",
        "    pd.concat([dp1,dp2,dp3,dp4,dp5,dp6],axis=0).set_index([Camp_cols]).plot(kind='line', figsize=(8,8))\n",
        "    plt.ylabel('Average' + ' ' + columns_name)\n",
        "    plt.show()"
      ]
    },
    {
      "cell_type": "code",
      "execution_count": null,
      "id": "e74de777",
      "metadata": {
        "id": "e74de777",
        "papermill": {
          "duration": null,
          "end_time": null,
          "exception": null,
          "start_time": null,
          "status": "pending"
        },
        "tags": []
      },
      "outputs": [],
      "source": [
        "# store purchase\n",
        "\n",
        "#call the function Purchases_per_campaign for NumStorePurchases\n",
        "\n",
        "Purchases_per_campaign('NumStorePurchases')"
      ]
    },
    {
      "cell_type": "code",
      "execution_count": null,
      "id": "f1d41136",
      "metadata": {
        "id": "f1d41136",
        "papermill": {
          "duration": null,
          "end_time": null,
          "exception": null,
          "start_time": null,
          "status": "pending"
        },
        "tags": []
      },
      "outputs": [],
      "source": [
        "#Catalog purchase\n",
        "\n",
        "#call the function Purchases_per_campaign for NumCatalogPurchases\n",
        "\n",
        "Purchases_per_campaign('NumCatalogPurchases')"
      ]
    },
    {
      "cell_type": "code",
      "execution_count": null,
      "id": "0b7a15c4",
      "metadata": {
        "id": "0b7a15c4",
        "papermill": {
          "duration": null,
          "end_time": null,
          "exception": null,
          "start_time": null,
          "status": "pending"
        },
        "tags": []
      },
      "outputs": [],
      "source": [
        "#Web purchases\n",
        "\n",
        "#call the function Purchases_per_campaign for NumWebPurchases\n",
        "\n",
        "Purchases_per_campaign('NumWebPurchases')"
      ]
    },
    {
      "cell_type": "markdown",
      "id": "4a59426b",
      "metadata": {
        "id": "4a59426b",
        "papermill": {
          "duration": null,
          "end_time": null,
          "exception": null,
          "start_time": null,
          "status": "pending"
        },
        "tags": []
      },
      "source": [
        "**Observations:**\n",
        "\n",
        "- For the customers accepting campaign 3, 4, 5, and 6 the average store  purchase is very high.\n",
        "\n",
        "- For the customers accepting campaign 3, and 4 the average catalog purchase is very high, around 6. Besides, for the customers accepting campaign 1, 2, 5, and 6, the average catalog purchase is above 3.5. As we can see from the above plot, the customers 5, the average catalog purchase is around 5.\n",
        "\n",
        "- For the customers accepting campaigns 1, 2, 3, 4, 5, and 6, the average purchase made through the company's website is above 4.50. In addition, we can see from the above plot that for the customers accepting campaigns 3, 4, and 5, the average purchase made through the company's website is relatively high.\n"
      ]
    },
    {
      "cell_type": "code",
      "execution_count": null,
      "id": "f4aafad7",
      "metadata": {
        "id": "f4aafad7",
        "papermill": {
          "duration": null,
          "end_time": null,
          "exception": null,
          "start_time": null,
          "status": "pending"
        },
        "tags": []
      },
      "outputs": [],
      "source": [
        "#Recency\n",
        "\n",
        "#uncomment the line of code given below.\n",
        "\n",
        "def Purchases_per_campaign(columns_name):\n",
        "    dp1=pd.DataFrame(df.groupby(['AcceptedCmp1']).mean()[columns_name]).T\n",
        "    dp2=pd.DataFrame(df.groupby(['AcceptedCmp2']).mean()[columns_name]).T\n",
        "    dp3=pd.DataFrame(df.groupby(['AcceptedCmp3']).mean()[columns_name]).T\n",
        "    dp4=pd.DataFrame(df.groupby(['AcceptedCmp4']).mean()[columns_name]).T\n",
        "    dp5=pd.DataFrame(df.groupby(['AcceptedCmp5']).mean()[columns_name]).T\n",
        "    dp6=pd.DataFrame(df.groupby(['AcceptedCmp6']).mean()[columns_name]).T\n",
        "    pd.concat([dp1,dp2,dp3,dp4,dp5,dp6],axis=0).set_index([Camp_cols]).plot(kind='line', figsize=(8,8))\n",
        "    plt.ylabel('Average' + ' ' + columns_name)\n",
        "    plt.show()\n",
        "\n",
        "Purchases_per_campaign('Recency')"
      ]
    },
    {
      "cell_type": "markdown",
      "id": "9336c606",
      "metadata": {
        "id": "9336c606",
        "papermill": {
          "duration": null,
          "end_time": null,
          "exception": null,
          "start_time": null,
          "status": "pending"
        },
        "tags": []
      },
      "source": [
        "**Observations:**\n",
        "- Average recency of the customers who accepted campaign 2 is quite low which implies that campaign 2 was accepted by the customers who recently purchased an item. "
      ]
    },
    {
      "cell_type": "markdown",
      "id": "3ee394ac",
      "metadata": {
        "id": "3ee394ac",
        "papermill": {
          "duration": null,
          "end_time": null,
          "exception": null,
          "start_time": null,
          "status": "pending"
        },
        "tags": []
      },
      "source": [
        "#### We have analyzed the relationship between campaigns and numerical variables. Let's see the relationship of campaigns with different categorical variables"
      ]
    },
    {
      "cell_type": "markdown",
      "id": "98ab48a6",
      "metadata": {
        "id": "98ab48a6",
        "papermill": {
          "duration": null,
          "end_time": null,
          "exception": null,
          "start_time": null,
          "status": "pending"
        },
        "tags": []
      },
      "source": [
        "We will check the percentage acceptance of each campaign with respect to each category in the categorical variable. The percentage acceptance is calculated as number of customers who have accepted the campaign to the total number of customers."
      ]
    },
    {
      "cell_type": "code",
      "execution_count": null,
      "id": "7e3d32af",
      "metadata": {
        "id": "7e3d32af",
        "papermill": {
          "duration": null,
          "end_time": null,
          "exception": null,
          "start_time": null,
          "status": "pending"
        },
        "tags": []
      },
      "outputs": [],
      "source": [
        "def Cat_Campaign_Relation(df, column_name):\n",
        "    e1=(df.groupby([column_name]).sum()['AcceptedCmp1']/df.groupby([column_name]).count()['AcceptedCmp1'])\n",
        "    e2=(df.groupby([column_name]).sum()['AcceptedCmp2']/df.groupby([column_name]).count()['AcceptedCmp2'])\n",
        "    e3=(df.groupby([column_name]).sum()['AcceptedCmp3']/df.groupby([column_name]).count()['AcceptedCmp3'])\n",
        "    e4=(df.groupby([column_name]).sum()['AcceptedCmp4']/df.groupby([column_name]).count()['AcceptedCmp4'])\n",
        "    e5=(df.groupby([column_name]).sum()['AcceptedCmp5']/df.groupby([column_name]).count()['AcceptedCmp5'])\n",
        "    e6=(df.groupby([column_name]).sum()['AcceptedCmp6']/df.groupby([column_name]).count()['AcceptedCmp6'])\n",
        "    df_new=pd.concat([e1,e2,e3,e4,e5,e6],axis=1).T\n",
        "    plt.figure(figsize=(8,8))\n",
        "    sns.lineplot(data=df_new, markers=True, linewidth=2)\n",
        "    plt.ylabel('Percentage Acceptance')\n",
        "    plt.show()"
      ]
    },
    {
      "cell_type": "code",
      "execution_count": null,
      "id": "0b93da24",
      "metadata": {
        "id": "0b93da24",
        "papermill": {
          "duration": null,
          "end_time": null,
          "exception": null,
          "start_time": null,
          "status": "pending"
        },
        "tags": []
      },
      "outputs": [],
      "source": [
        "#here is an example showing how to use this fuction on the column Education\n",
        "Cat_Campaign_Relation(df, 'Education')"
      ]
    },
    {
      "cell_type": "markdown",
      "id": "3fe43198",
      "metadata": {
        "id": "3fe43198",
        "papermill": {
          "duration": null,
          "end_time": null,
          "exception": null,
          "start_time": null,
          "status": "pending"
        },
        "tags": []
      },
      "source": [
        "**Observations:**\n",
        "\n",
        "- More than 20% of the customers with Ph.D have accepted campaign 2.\n",
        "- Customers with basic education have only accepted campaign 1 and 2.\n",
        "- Except customers with basic education level, all education levels follow the same trend."
      ]
    },
    {
      "cell_type": "markdown",
      "id": "fd74b9ec",
      "metadata": {
        "id": "fd74b9ec",
        "papermill": {
          "duration": null,
          "end_time": null,
          "exception": null,
          "start_time": null,
          "status": "pending"
        },
        "tags": []
      },
      "source": [
        "### **Question 6: Write the code and your observations on percentage acceptance for different categorical variables across all campaigns.** - 7 Marks"
      ]
    },
    {
      "cell_type": "code",
      "execution_count": null,
      "id": "aac069bd",
      "metadata": {
        "id": "aac069bd",
        "papermill": {
          "duration": null,
          "end_time": null,
          "exception": null,
          "start_time": null,
          "status": "pending"
        },
        "tags": []
      },
      "outputs": [],
      "source": [
        "#NumberofChildren\n",
        "\n",
        "#call the function Cat_Campaign_Relation for NumberofChildren\n",
        "\n",
        "Cat_Campaign_Relation(df, 'NumberofChildren')"
      ]
    },
    {
      "cell_type": "code",
      "execution_count": null,
      "id": "6e22a2a7",
      "metadata": {
        "id": "6e22a2a7",
        "papermill": {
          "duration": null,
          "end_time": null,
          "exception": null,
          "start_time": null,
          "status": "pending"
        },
        "tags": []
      },
      "outputs": [],
      "source": [
        "#Let's filter the observations with 'Others' category as they are only 4 such observations\n",
        "df_rest=df[df.Marital_Status!='Others']\n",
        "\n",
        "#call the function Cat_Campaign_Relation for NumberofChildren with dataframe df_rest\n",
        "\n",
        "plt.figure(figsize=(8,8))\n",
        "sns.heatmap((df_rest.groupby('Marital_Status').sum()[Camp_cols]/df_rest.groupby('Marital_Status').count()[Camp_cols])*100, annot=True, fmt='0.2f', cmap=\"YlGnBu\")\n"
      ]
    },
    {
      "cell_type": "code",
      "execution_count": null,
      "id": "14b56c73",
      "metadata": {
        "id": "14b56c73",
        "papermill": {
          "duration": null,
          "end_time": null,
          "exception": null,
          "start_time": null,
          "status": "pending"
        },
        "tags": []
      },
      "outputs": [],
      "source": [
        "#Let's filter the observations for 'ME' country as they are only 3 such observations\n",
        "df_not_mexico=df[df.Country!='ME']\n",
        "\n",
        "#Plot\n",
        "plt.figure(figsize=(8,8))\n",
        "sns.heatmap((df_not_mexico.groupby('Country').sum()[Camp_cols]/df_not_mexico.groupby('Country').count()[Camp_cols])*100, annot=True, fmt='0.2f', cmap=\"YlGnBu\")"
      ]
    },
    {
      "cell_type": "markdown",
      "id": "4ac5c38e",
      "metadata": {
        "id": "4ac5c38e",
        "papermill": {
          "duration": null,
          "end_time": null,
          "exception": null,
          "start_time": null,
          "status": "pending"
        },
        "tags": []
      },
      "source": [
        "**Observation:**\n",
        "\n",
        "- More than 25% of the customers with no children accepted campaign 2. \n",
        "\n",
        "- The customers with 3 children acceptance rate are at or less than 7% across all the campaigns.\n",
        "\n",
        "- ~ 21% of the divorced customers accept campaign 2, 22.22% of the single customers accepted campaign 2, and ~24% of the window customers accepted campaign number 2.\n",
        "\n",
        "- The accepted rate for campaign 6 is the lowest among all the marital statuses. \n",
        "\n",
        "- The accepted rate for the campaign 2 is high among all the countries. Besides, the accepted rate for campaign 6 is the lowest among all the listed countries. \n",
        "\n",
        "- The US customers mostly accepted the campaign 2 (~12%), followed by the campaign 1 (7.34%) and campaign 4 (6.42%). In addition, the US customers accepted rate for the campaign 6 is 0%, 5.50% for the campaign 5, and 4.59% for the campaign 3."
      ]
    },
    {
      "cell_type": "markdown",
      "id": "71d31203",
      "metadata": {
        "id": "71d31203",
        "papermill": {
          "duration": null,
          "end_time": null,
          "exception": null,
          "start_time": null,
          "status": "pending"
        },
        "tags": []
      },
      "source": [
        "### Check the product preferences by customers"
      ]
    },
    {
      "cell_type": "code",
      "execution_count": null,
      "id": "d106c788",
      "metadata": {
        "id": "d106c788",
        "papermill": {
          "duration": null,
          "end_time": null,
          "exception": null,
          "start_time": null,
          "status": "pending"
        },
        "tags": []
      },
      "outputs": [],
      "source": [
        "#creating a list which contain all the columns name of products\n",
        "\n",
        "mnt_cols = [col for col in df.columns if 'Mnt' in col]\n",
        "\n",
        "spending=df[mnt_cols].mean(axis=0)\n",
        "spending.plot(kind='bar', figsize=(10,5))\n",
        "plt.ylabel(\"Average spend by customers\")\n",
        "plt.show()"
      ]
    },
    {
      "cell_type": "markdown",
      "id": "b409ac31",
      "metadata": {
        "id": "b409ac31",
        "papermill": {
          "duration": null,
          "end_time": null,
          "exception": null,
          "start_time": null,
          "status": "pending"
        },
        "tags": []
      },
      "source": [
        "**Observations**:\n",
        "\n",
        "- The mean amount spent by customers in the last 2 years is highest for wines followed by meat products."
      ]
    },
    {
      "cell_type": "markdown",
      "id": "6a68a8df",
      "metadata": {
        "id": "6a68a8df",
        "papermill": {
          "duration": null,
          "end_time": null,
          "exception": null,
          "start_time": null,
          "status": "pending"
        },
        "tags": []
      },
      "source": [
        "Let's check if the product preferences are similar for different types of customers. We will calculate the percentage amount spent by customers on a product for each category with respect to the total spending by customers belonging to that category."
      ]
    },
    {
      "cell_type": "code",
      "execution_count": null,
      "id": "b9064e48",
      "metadata": {
        "id": "b9064e48",
        "papermill": {
          "duration": null,
          "end_time": null,
          "exception": null,
          "start_time": null,
          "status": "pending"
        },
        "tags": []
      },
      "outputs": [],
      "source": [
        "def amount_per_category(df, column_name):\n",
        "    df_new1=((df.groupby([column_name]).sum()[mnt_cols].T)/df.groupby([column_name]).sum()['Total_Spending'])\n",
        "    plt.figure(figsize=(10,8))\n",
        "    sns.heatmap(df_new1.T, annot=True, cmap=\"YlGnBu\")\n",
        "    plt.show()"
      ]
    },
    {
      "cell_type": "code",
      "execution_count": null,
      "id": "f8ba0518",
      "metadata": {
        "id": "f8ba0518",
        "papermill": {
          "duration": null,
          "end_time": null,
          "exception": null,
          "start_time": null,
          "status": "pending"
        },
        "tags": []
      },
      "outputs": [],
      "source": [
        "# plot showing the percentage of total spending of different products by a group of customers having same education level\n",
        "\n",
        "amount_per_category(df, 'Education')"
      ]
    },
    {
      "cell_type": "markdown",
      "id": "4f532ec2",
      "metadata": {
        "id": "4f532ec2",
        "papermill": {
          "duration": null,
          "end_time": null,
          "exception": null,
          "start_time": null,
          "status": "pending"
        },
        "tags": []
      },
      "source": [
        "**Observations:**\n",
        "- Customers with PhD spend ~60% of their total spending on wines.\n",
        "- Customers with Graduation and Master's spend ~45-50% of their total spending on wines.\n",
        "- Customers with Graduation and Master's spend ~27-29% of their total spending on meat.\n",
        "- Customers with PhD spend ~25% of their total spending on meat.\n",
        "- Customers having education level Master or PhD spend ~80% on meat and wines.\n",
        "- Customers with basic education spend more on Fruits, Fish, Sweet, and Gold products."
      ]
    },
    {
      "cell_type": "markdown",
      "id": "ec9bad60",
      "metadata": {
        "id": "ec9bad60",
        "papermill": {
          "duration": null,
          "end_time": null,
          "exception": null,
          "start_time": null,
          "status": "pending"
        },
        "tags": []
      },
      "source": [
        "### **Question 7: Write the code and your observations on percentage amount spent on different products for each category of the mentioned categorical variables.** - 7 Marks"
      ]
    },
    {
      "cell_type": "code",
      "execution_count": null,
      "id": "3538ec35",
      "metadata": {
        "id": "3538ec35",
        "papermill": {
          "duration": null,
          "end_time": null,
          "exception": null,
          "start_time": null,
          "status": "pending"
        },
        "tags": []
      },
      "outputs": [],
      "source": [
        "#call the function amount_per_category for Marital_Status with dataframe df_rest\n",
        "\n",
        "def amount_per_category(df, column_name):\n",
        "    df_rest=((df.groupby([column_name]).sum()[mnt_cols].T)/df.groupby([column_name]).sum()['Total_Spending'])\n",
        "    plt.figure(figsize=(10,8))\n",
        "    sns.heatmap(df_rest.T, annot=True, cmap=\"YlGnBu\")\n",
        "    plt.show()\n",
        "amount_per_category(df, 'Marital_Status')"
      ]
    },
    {
      "cell_type": "code",
      "execution_count": null,
      "id": "58695d49",
      "metadata": {
        "id": "58695d49",
        "papermill": {
          "duration": null,
          "end_time": null,
          "exception": null,
          "start_time": null,
          "status": "pending"
        },
        "tags": []
      },
      "outputs": [],
      "source": [
        "#call the function amount_per_category for Country with dataframe df_not_mexico\n",
        "\n",
        "def amount_per_category(df, column_name):\n",
        "    df_not_mexico=((df.groupby([column_name]).sum()[mnt_cols].T)/df.groupby([column_name]).sum()['Total_Spending'])\n",
        "    plt.figure(figsize=(10,8))\n",
        "    sns.heatmap(df_not_mexico.T, annot=True, cmap=\"YlGnBu\")\n",
        "    plt.show()\n",
        "amount_per_category(df, 'Country')"
      ]
    },
    {
      "cell_type": "markdown",
      "id": "89613d7e",
      "metadata": {
        "id": "89613d7e",
        "papermill": {
          "duration": null,
          "end_time": null,
          "exception": null,
          "start_time": null,
          "status": "pending"
        },
        "tags": []
      },
      "source": [
        "**Observations:**\n",
        "\n",
        "- Customers with any marital status spend between 42-53% of their spending on wines, which is the highest percentage compared to customers' spending on other products.\n",
        "\n",
        "- Divorce customers spend 53% of their total spending on wines, which is the highest percentage of amount spend on wines by the customers. \n",
        "\n",
        "- 'Together (marital status) customers spend the highest amount on 'meat,' which is 28% of their spending, whereas divorce customers spend ~ 80% of their spending on wines, and meat.   \n",
        "\n",
        "- Customers from any listed countries spend between 46-55% of their spending on wines, which is the highest percentage compared to customers' spending on other products.\n",
        "\n",
        "- Customers from the US spend 48% of their spending on wines, and 3% of their spending on meat. \n",
        "\n",
        "- Customers from the AUS spend 75% their spending on wines, and meat.\n",
        "\n",
        "- Customers from the SP spend spend ~ 80% of their spending on wines, and meat.   \n",
        "\n",
        "- Customers from the IND spend spend ~ 5% of their spending on fruits. \n",
        "\n",
        "- Customers from the AUS spend spend ~ 9% of their spending on gold where as customers from teh IND spend ~8% of their spending on gold. "
      ]
    },
    {
      "cell_type": "markdown",
      "id": "ded7d17f",
      "metadata": {
        "id": "ded7d17f",
        "papermill": {
          "duration": null,
          "end_time": null,
          "exception": null,
          "start_time": null,
          "status": "pending"
        },
        "tags": []
      },
      "source": [
        "### Check different channel performances "
      ]
    },
    {
      "cell_type": "markdown",
      "id": "05eab7a9",
      "metadata": {
        "id": "05eab7a9",
        "papermill": {
          "duration": null,
          "end_time": null,
          "exception": null,
          "start_time": null,
          "status": "pending"
        },
        "tags": []
      },
      "source": [
        "Let's calculate the percentage of purchases for all the channels."
      ]
    },
    {
      "cell_type": "code",
      "execution_count": null,
      "id": "98ce0a33",
      "metadata": {
        "id": "98ce0a33",
        "papermill": {
          "duration": null,
          "end_time": null,
          "exception": null,
          "start_time": null,
          "status": "pending"
        },
        "tags": []
      },
      "outputs": [],
      "source": [
        "# list of cols for channels\n",
        "\n",
        "channel_cols = [col for col in df.columns if 'Purchases' in col] \n",
        "\n",
        "#making dataframe of columns having purchase and taking sum of them.\n",
        "channels = pd.DataFrame(df[channel_cols].sum()/df.Total_Purchase.sum(), columns=['NumberofPurchases'])\n",
        "\n",
        "# plot\n",
        "channels.plot(kind='bar', figsize=(6,6))\n",
        "plt.ylabel(\"Percentage Purchases\")\n",
        "plt.show()"
      ]
    },
    {
      "cell_type": "markdown",
      "id": "f12072ac",
      "metadata": {
        "id": "f12072ac",
        "papermill": {
          "duration": null,
          "end_time": null,
          "exception": null,
          "start_time": null,
          "status": "pending"
        },
        "tags": []
      },
      "source": [
        "**Observations**:\n",
        "\n",
        "- We can see that the most purchases are from the stores followed by web purchases.\n",
        "- Number of deal purchases and catalog purchases are low."
      ]
    },
    {
      "cell_type": "markdown",
      "id": "cd6944bc",
      "metadata": {
        "id": "cd6944bc",
        "papermill": {
          "duration": null,
          "end_time": null,
          "exception": null,
          "start_time": null,
          "status": "pending"
        },
        "tags": []
      },
      "source": [
        "### **Question 8: Write your observations on percentage purchases from different channels for different categories of the income_cat column.** - 4 Marks"
      ]
    },
    {
      "cell_type": "markdown",
      "id": "0e16f83d",
      "metadata": {
        "id": "0e16f83d",
        "papermill": {
          "duration": null,
          "end_time": null,
          "exception": null,
          "start_time": null,
          "status": "pending"
        },
        "tags": []
      },
      "source": [
        "Let's check how number of purchases via different channels varies for different income bins."
      ]
    },
    {
      "cell_type": "code",
      "execution_count": null,
      "id": "ed638a46",
      "metadata": {
        "id": "ed638a46",
        "papermill": {
          "duration": null,
          "end_time": null,
          "exception": null,
          "start_time": null,
          "status": "pending"
        },
        "tags": []
      },
      "outputs": [],
      "source": [
        "#Binning the income column\n",
        "df['income_cat']=pd.qcut(df.Income, q=[0, 0.25, 0.50, 0.75, 1], labels=['low', 'medium', 'high', 'very_high'])"
      ]
    },
    {
      "cell_type": "code",
      "execution_count": null,
      "id": "7c75094f",
      "metadata": {
        "id": "7c75094f",
        "papermill": {
          "duration": null,
          "end_time": null,
          "exception": null,
          "start_time": null,
          "status": "pending"
        },
        "tags": []
      },
      "outputs": [],
      "source": [
        "group=df.groupby('income_cat').sum()[channel_cols]\n",
        "(group/group.sum()).plot(kind='bar', figsize=(8,8))\n",
        "plt.ylabel(\"Percentage Purchases\")\n",
        "plt.show()"
      ]
    },
    {
      "cell_type": "markdown",
      "id": "97d2ca4a",
      "metadata": {
        "id": "97d2ca4a",
        "papermill": {
          "duration": null,
          "end_time": null,
          "exception": null,
          "start_time": null,
          "status": "pending"
        },
        "tags": []
      },
      "source": [
        "**Observations:**\n",
        "\n",
        "- From the above grouped vertical bar chart, we can conclude that those very high-income customers made more than 50% of their purchases using catalog (buying goods to be shipped through the mail), which rank highest and followed by the *purchases made directly in stores* (2nd). High-income customers also rank high among all income groups in terms of purchases made through the catalog and directly in stores.\n",
        "\n",
        "- Low-income customers rank high in the number of purchases made with discounts, whereas low-income customers make the lowest purchases through the catalog. \n",
        "\n",
        "- High-income customers rank almost similar in terms of the numbers of purchases made via all 4 different channels, which are at or above 30%\n",
        "\n",
        "- Medium income customers made the highest numbers of the purchase via discount i.e., NumDealsPurchases (number of purchases made with discount)\n",
        "\n",
        "- High and very high income customers made more than 65% of the 'in stores\" purchases. \n",
        "\n",
        "- High and very high income customers made more than 60% of the purchases via company's website"
      ]
    },
    {
      "cell_type": "markdown",
      "id": "6c06f66e",
      "metadata": {
        "id": "6c06f66e",
        "papermill": {
          "duration": null,
          "end_time": null,
          "exception": null,
          "start_time": null,
          "status": "pending"
        },
        "tags": []
      },
      "source": [
        "### We can also visualize the correlation by purchases from different channels and income of the customer."
      ]
    },
    {
      "cell_type": "markdown",
      "id": "456393cb",
      "metadata": {
        "id": "456393cb",
        "papermill": {
          "duration": null,
          "end_time": null,
          "exception": null,
          "start_time": null,
          "status": "pending"
        },
        "tags": []
      },
      "source": [
        "### **Question 9: Find the correlation matrix for the columns mentioned below and visualize the same using heatmap.** - 3 Marks"
      ]
    },
    {
      "cell_type": "code",
      "execution_count": null,
      "id": "3b538345",
      "metadata": {
        "id": "3b538345",
        "papermill": {
          "duration": null,
          "end_time": null,
          "exception": null,
          "start_time": null,
          "status": "pending"
        },
        "tags": []
      },
      "outputs": [],
      "source": [
        "corr=df[['Income', 'NumDealsPurchases', 'NumWebPurchases', 'NumCatalogPurchases', 'NumStorePurchases' ]].corr()\n",
        "\n",
        "#Write your code here\n",
        "plt.figure(figsize=(8,6))\n",
        "sns.heatmap(corr, annot=True,cmap='coolwarm',\n",
        "        fmt=\".1f\",\n",
        "        xticklabels=corr.columns,\n",
        "        yticklabels=corr.columns)"
      ]
    },
    {
      "cell_type": "markdown",
      "id": "6a3d259e",
      "metadata": {
        "id": "6a3d259e",
        "papermill": {
          "duration": null,
          "end_time": null,
          "exception": null,
          "start_time": null,
          "status": "pending"
        },
        "tags": []
      },
      "source": [
        "**Observations:**\n",
        "\n",
        "- As we know that correlation does not imply causation. \n",
        "\n",
        "- NumStorePurchase & NumCatalog purchases show a high positive correlation with customer income (0.7). The customers with high income are most likely to make the highest number of purchases via 'in stores' and 'catalog.'   \n",
        "\n",
        "- NumWebPurchases has a positive correlation of 0.5 with the variable income. \n",
        "\n",
        "- NumDealPurchases has a negative correlation (-0.1) with the variable income.\n",
        "\n",
        "- NumCatalogPurchase has a positive correlation of 0.4 with the NumWebPurchase. "
      ]
    },
    {
      "cell_type": "markdown",
      "id": "aac46f46",
      "metadata": {
        "id": "aac46f46",
        "papermill": {
          "duration": null,
          "end_time": null,
          "exception": null,
          "start_time": null,
          "status": "pending"
        },
        "tags": []
      },
      "source": [
        "As we know from our analysis we have done so far that customers with income, number of children, and amount spending on wines are the important factors.  Let's try to come up with new customer profile on the basis of these 3 attributes and check what would be the acceptance rate for that customer profile."
      ]
    },
    {
      "cell_type": "code",
      "execution_count": null,
      "id": "b5551065",
      "metadata": {
        "id": "b5551065",
        "papermill": {
          "duration": null,
          "end_time": null,
          "exception": null,
          "start_time": null,
          "status": "pending"
        },
        "tags": []
      },
      "outputs": [],
      "source": [
        "df3=df[df.Income>52000]\n",
        "df4=df3[df3.MntWines>df3.MntWines.mean()]\n",
        "new_profile=df4[df4.NumberofChildren==0]"
      ]
    },
    {
      "cell_type": "code",
      "execution_count": null,
      "id": "d92af114",
      "metadata": {
        "id": "d92af114",
        "papermill": {
          "duration": null,
          "end_time": null,
          "exception": null,
          "start_time": null,
          "status": "pending"
        },
        "tags": []
      },
      "outputs": [],
      "source": [
        "#Calculating success rate of each campaing for both segments \n",
        "success_campaign3=pd.DataFrame(success_campaign, columns=['Overall Acceptance'])\n",
        "\n",
        "success_campaign4=pd.DataFrame((new_profile[Camp_cols].sum()/new_profile.shape[0])*100, columns=['New Customer Profile Acceptance '])\n",
        "\n",
        "# plot\n",
        "pd.concat([success_campaign3, success_campaign4], axis=1).plot(kind='bar', figsize=(8,6))\n",
        "plt.title(\"\")\n",
        "plt.ylabel(\"\")\n",
        "plt.show()"
      ]
    },
    {
      "cell_type": "markdown",
      "id": "70de2465",
      "metadata": {
        "id": "70de2465",
        "papermill": {
          "duration": null,
          "end_time": null,
          "exception": null,
          "start_time": null,
          "status": "pending"
        },
        "tags": []
      },
      "source": [
        "**Observations:**\n",
        "- Orange bars in the plot indicates that acceptance rate would have been high for new customer profile i.e. income greater than the mean income, no kid at home, amount spent of wines is greater than the mean amount spent on wines."
      ]
    },
    {
      "cell_type": "markdown",
      "id": "c71c7503",
      "metadata": {
        "id": "c71c7503",
        "papermill": {
          "duration": null,
          "end_time": null,
          "exception": null,
          "start_time": null,
          "status": "pending"
        },
        "tags": []
      },
      "source": [
        "### **Question 10: Based on your analysis, write the conclusions and recommendations for the CMO to help make the next marketing campaign strategy.** - 10 Marks"
      ]
    },
    {
      "cell_type": "markdown",
      "id": "a0d7521e",
      "metadata": {
        "id": "a0d7521e",
        "papermill": {
          "duration": null,
          "end_time": null,
          "exception": null,
          "start_time": null,
          "status": "pending"
        },
        "tags": []
      },
      "source": [
        "## Conclusion and Recommendations"
      ]
    },
    {
      "cell_type": "markdown",
      "id": "e9a629f0",
      "metadata": {
        "id": "e9a629f0",
        "papermill": {
          "duration": null,
          "end_time": null,
          "exception": null,
          "start_time": null,
          "status": "pending"
        },
        "tags": []
      },
      "source": [
        "#Conclusion: \n",
        "\n",
        "- The average household income of the customer is 52,247.25 and has a high range from 1,730 to 66,6666.\n",
        "\n",
        "- The customers with 3 children acceptance rate are less than 7% across all the campaigns.\n",
        "\n",
        "- On average, the customers spend the highest amount of their spending on buying meant (mean: 303.93) and wines (mean: 166.95)\n",
        "\n",
        "- The average numbers of the purchases customers are using the company website, and 'in store' purchases are 4.08 and 5.79 respectively. \n",
        "\n",
        "- On the other hand, the acceptance rate for campaign 2 is around 15.5 % (highest), and the acceptance rate for campaign 6 is about 1.2% (lowest). In addition, except for customers with basic education levels, all education levels follow the same trend. \n",
        "\n",
        "- The US customers mostly accepted the campaign 2 (~12%), followed by the campaign 1 (7.34%) and campaign 4 (6.42%).\n",
        "\n",
        "- The 'high' and 'very high' income customers made more than 60% of the 'in-store' and purchases through the company website. In addition, NumStorePurchase & NumCatalog purchases show a high positive correlation with customer income (0.7). Also, NumWebPurchases has a positive correlation of 0.5  income."
      ]
    },
    {
      "cell_type": "markdown",
      "id": "fe280ce4",
      "metadata": {
        "id": "fe280ce4",
        "papermill": {
          "duration": null,
          "end_time": null,
          "exception": null,
          "start_time": null,
          "status": "pending"
        },
        "tags": []
      },
      "source": [
        "# Recommendations:\n",
        "\n",
        "- Chief Marketing Officer must **pay significant attention to the variables such as the annual income of the customers, the number of children per\n",
        "  household, and the amount spent on wine products.** Hence, the CMO should develop different marketing strategies based on these variables\n",
        "  to optimize for ROI on conversion rates.\n",
        "\n",
        "- Similarly, the CMO should also contact the Data Science department to conduct further analysis about the customer's location to identify keys\n",
        "  insights and impact on the campaign's success rate.\n",
        "\n",
        "- Products such as meat and wines are doing well in maximizing sales. Hence, the CEO should pay significant attention to reviewing these customers' profiles to retain these customers and increase the sales of the other products simultaneously.\n",
        "\n",
        "- As 'high' and 'very high' income customers made more than 60% of their purchases via 'in-store and 'company website.' Besides, the low & medium-income customers rank high in the number of purchases made with discounts. And new customer profile has a high score on campaign 3. Hence, the CMO should design new marketing campaigns with personalized offers to these customers as per their profile to achieve overall growth and optimize for ROI on conversation rates."
      ]
    }
  ],
  "metadata": {
    "kernelspec": {
      "display_name": "Python 3",
      "language": "python",
      "name": "python3"
    },
    "language_info": {
      "codemirror_mode": {
        "name": "ipython",
        "version": 3
      },
      "file_extension": ".py",
      "mimetype": "text/x-python",
      "name": "python",
      "nbconvert_exporter": "python",
      "pygments_lexer": "ipython3",
      "version": "3.7.12"
    },
    "papermill": {
      "default_parameters": {},
      "duration": 9.6132,
      "end_time": "2021-12-27T19:21:34.358646",
      "environment_variables": {},
      "exception": true,
      "input_path": "__notebook__.ipynb",
      "output_path": "__notebook__.ipynb",
      "parameters": {},
      "start_time": "2021-12-27T19:21:24.745446",
      "version": "2.3.3"
    },
    "colab": {
      "name": "marketing-campaign-analysis-xyz-company.ipynb",
      "provenance": []
    }
  },
  "nbformat": 4,
  "nbformat_minor": 5
}